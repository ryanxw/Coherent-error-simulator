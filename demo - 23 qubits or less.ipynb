{
 "cells": [
  {
   "cell_type": "code",
   "execution_count": 1,
   "metadata": {},
   "outputs": [],
   "source": [
    "# Circuit simulator for n-qubit rotations\n",
    "# Gates are performed sequentially, only commuting gates (including errors) can be performed in parallel\n",
    "\n",
    "# Benchmarks are run with a 2017 Macbook-Pro\n",
    "# Current benchmark: < 2 min for 25 operations on 25 qubits\n",
    "# 8 GB RAM available => linear operations with 27-qubit complex state vector\n",
    "\n",
    "# For < 23 qubits, numpy is the way to go. Numba is faster for 23 to 30 qubits. \n",
    "# Unfortunately, numba may break when inside an imported class/function\n",
    "\n",
    "# Important: numba does not support classes and objects\n",
    "# Numba also does not support or offer no speed up to the following functions: np.reshape, np.roll, np.swapaxes\n",
    "\n",
    "%precision 4\n",
    "\n",
    "import cmath\n",
    "import numpy as np\n",
    "from numpy import *\n",
    "import numpy as np\n",
    "import matplotlib.pyplot as plt\n",
    "from scipy.optimize import fsolve\n",
    "\n",
    "import time\n",
    "from numba import jit, njit\n",
    "\n",
    "import Circuit_ops\n",
    "from Circuit_ops import zero_state, apply, prob_plot, fidelity, save_fidelities, read_fidelities\n",
    "\n",
    "from Circuit import Circuit\n",
    "from Gates import Gates\n",
    "from Error_dist import r\n",
    "from Compiler import compile_gate"
   ]
  },
  {
   "cell_type": "code",
   "execution_count": 2,
   "metadata": {},
   "outputs": [
    {
     "data": {
      "image/png": "[encoded data removed]",
      "text/plain": [
       "<Figure size 576x432 with 1 Axes>"
      ]
     },
     "metadata": {
      "needs_background": "light"
     },
     "output_type": "display_data"
    },
    {
     "name": "stdout",
     "output_type": "stream",
     "text": [
      "Fidelity =  0.9776806070731643\n"
     ]
    },
    {
     "data": {
      "image/png": "[encoded data removed]",
      "text/plain": [
       "<Figure size 432x288 with 1 Axes>"
      ]
     },
     "metadata": {
      "needs_background": "light"
     },
     "output_type": "display_data"
    },
    {
     "name": "stdout",
     "output_type": "stream",
     "text": [
      "Time elapsed =  10.677432223999999 s\n"
     ]
    }
   ],
   "source": [
    "# 5-qubit circuit\n",
    "\n",
    "N = 5\n",
    "\n",
    "ideal_bell_circ = Circuit(\"Bell state (no errors)\", N)\n",
    "\n",
    "ideal_state = ideal_bell_circ.H(0).CNOT(0,1).CNOT(0,2) \\\n",
    "            .CNOT(0,3).CNOT(0,4).compute()\n",
    "\n",
    "\n",
    "bad_bell_circ = Circuit(\"Bell state with errors\", N)\n",
    "bad_bell_circ.set_errors([0.1, 0.01, 0.1])\n",
    "\n",
    "final_state = bad_bell_circ.H(0).CNOT(0,1).CNOT(0,2) \\\n",
    "            .CNOT(0,3).CNOT(0,4).compute()\n",
    "\n",
    "title = f'State probabilities'\n",
    "plt.figure(figsize=(8, 6))\n",
    "prob_plot(final_state, title)\n",
    "\n",
    "print(\"Fidelity = \", fidelity(final_state, ideal_state))\n",
    "\n",
    "# Repeat a few thousand times, plot fidelity histogram\n",
    "\n",
    "fidelities = []\n",
    "runs = 3000\n",
    "\n",
    "start = time.perf_counter()\n",
    "\n",
    "for i in range(runs):\n",
    "    final_state = bad_bell_circ.compute()\n",
    "    fidelities.append(fidelity(final_state, ideal_state))\n",
    "\n",
    "plt.title(f'Fidelity distribution ({runs} runs, {N} ions)')\n",
    "plt.hist(fidelities, 20)\n",
    "plt.show()\n",
    "\n",
    "print(\"Time elapsed = \", time.perf_counter() - start, \"s\")\n"
   ]
  },
  {
   "cell_type": "code",
   "execution_count": 3,
   "metadata": {},
   "outputs": [
    {
     "name": "stdout",
     "output_type": "stream",
     "text": [
      "1\n",
      "2\n",
      "3\n",
      "4\n",
      "5\n",
      "6\n",
      "7\n",
      "8\n",
      "9\n",
      "10\n",
      "11\n",
      "12\n",
      "13\n",
      "14\n",
      "15\n",
      "16\n",
      "17\n"
     ]
    },
    {
     "name": "stderr",
     "output_type": "stream",
     "text": [
      "/anaconda3/lib/python3.7/site-packages/scipy/optimize/minpack.py:162: RuntimeWarning: The iteration is not making good progress, as measured by the \n",
      "  improvement from the last ten iterations.\n",
      "  warnings.warn(msg, RuntimeWarning)\n"
     ]
    },
    {
     "name": "stdout",
     "output_type": "stream",
     "text": [
      "18\n",
      "19\n",
      "20\n"
     ]
    },
    {
     "data": {
      "image/png": "[encoded data removed]",
      "text/plain": [
       "<Figure size 432x288 with 1 Axes>"
      ]
     },
     "metadata": {
      "needs_background": "light"
     },
     "output_type": "display_data"
    },
    {
     "name": "stdout",
     "output_type": "stream",
     "text": [
      "Average fidelity =  0.9835175098848208\n",
      "Time elapsed =  144.075564387 s\n",
      "10-th percentile fidelity = 0.9795183538417894\n",
      "90-th percentile fidelity = 0.9870438511610287\n"
     ]
    }
   ],
   "source": [
    "# 9 qubits, 160 CNOT gates\n",
    "\n",
    "start = time.perf_counter()\n",
    "\n",
    "N = 9\n",
    "\n",
    "circ = Circuit(\"Bell state\", N).Y(0,pi/2)\n",
    "\n",
    "n = 20\n",
    "\n",
    "for j in range(n):\n",
    "    for i in range(N-1):\n",
    "        circ = circ.CNOT(i, i+1)\n",
    "    \n",
    "ideal_state = circ.compute()\n",
    "\n",
    "err = 0.03\n",
    "circ.set_errors([0.01, 0.001, err])\n",
    "fidelities = []\n",
    "runs = 1000\n",
    "\n",
    "for k in range(runs):\n",
    "\n",
    "    final_state = circ.compute()\n",
    "    fidelities.append(fidelity(final_state, ideal_state))\n",
    "    \n",
    "    if (k % (runs / 20) == runs / 20 - 1):\n",
    "        print (round(k / (runs / 20)))\n",
    "\n",
    "plt.title(f'Fidelity distribution ({runs} runs, {N} ions)')\n",
    "plt.hist(fidelities, 20)\n",
    "plt.show()\n",
    "\n",
    "# It's good practice to save your results for large circuits (> 10 qubits) due to long runtime\n",
    "\n",
    "n_gates = (N - 1) * n\n",
    "filename = f'fidelities_{N}_qubits_{n_gates}_gates.txt'\n",
    "\n",
    "save_fidelities(fidelities, filename, N, n_gates, err, runs)\n",
    "\n",
    "print(\"Average fidelity = \", sum(fidelities)/runs)\n",
    "print(\"Time elapsed = \", time.perf_counter() - start, \"s\")\n",
    "print(f'10-th percentile fidelity = {sort(fidelities)[int(runs/10)]}')\n",
    "print(f'90-th percentile fidelity = {sort(fidelities)[int(9*runs/10)]}')"
   ]
  },
  {
   "cell_type": "code",
   "execution_count": 4,
   "metadata": {},
   "outputs": [],
   "source": [
    "# # Read the fidelities\n",
    "\n",
    "# data = read_fidelities('fidelities_10_qubits_180_gates.txt')\n",
    "# plt.hist(data, 20)\n",
    "# plt.show()\n",
    "\n",
    "# sum(read_fidelities('fidelities_10_qubits_180_gates.txt'))"
   ]
  },
  {
   "cell_type": "code",
   "execution_count": 13,
   "metadata": {},
   "outputs": [
    {
     "name": "stdout",
     "output_type": "stream",
     "text": [
      "1\n",
      "2\n",
      "3\n",
      "4\n",
      "5\n",
      "6\n",
      "7\n",
      "8\n",
      "9\n",
      "10\n",
      "11\n",
      "12\n",
      "13\n",
      "14\n",
      "15\n",
      "16\n",
      "17\n",
      "18\n",
      "19\n",
      "20\n"
     ]
    },
    {
     "data": {
      "image/png": "[encoded data removed]",
      "text/plain": [
       "<Figure size 432x288 with 1 Axes>"
      ]
     },
     "metadata": {
      "needs_background": "light"
     },
     "output_type": "display_data"
    },
    {
     "name": "stdout",
     "output_type": "stream",
     "text": [
      "Average fidelity = 0.9834864974083778\n",
      "Time elapsed =  125.22507241099993 s\n",
      "10-th percentile fidelity = 0.9741892231517261\n",
      "90-th percentile fidelity = 0.9910836757112585\n"
     ]
    }
   ],
   "source": [
    "# 4 qubits, 159 CNOT gates\n",
    "\n",
    "start = time.perf_counter()\n",
    "\n",
    "N = 4\n",
    "\n",
    "circ = Circuit(\"Bell state\", N).Y(0, pi/2)\n",
    "\n",
    "n = 53\n",
    "\n",
    "for j in range(n):\n",
    "    for i in range(N-1):\n",
    "        circ = circ.CNOT(i, i+1)\n",
    "    \n",
    "ideal_state = circ.compute()\n",
    "\n",
    "err = 0.03\n",
    "circ.set_errors([0.01, 0.001, err])\n",
    "fidelities = []\n",
    "runs = 1000\n",
    "\n",
    "for k in range(runs):\n",
    "\n",
    "    final_state = circ.compute()\n",
    "    fidelities.append(fidelity(final_state, ideal_state))\n",
    "    \n",
    "    if (k % (runs / 20) == runs / 20 - 1):\n",
    "        print (round(k / (runs / 20)))\n",
    "\n",
    "plt.title(f'Fidelity distribution ({runs} runs, {N} ions)')\n",
    "plt.hist(fidelities, 20)\n",
    "plt.show()\n",
    "\n",
    "# It's good practice to save your results for large circuits (> 10 qubits) due to long runtime\n",
    "\n",
    "n_gates = (N - 1) * n\n",
    "filename = f'fidelities_{N}_qubits_{n_gates}_gates.txt'\n",
    "\n",
    "save_fidelities(fidelities, filename, N, n_gates, err, runs)\n",
    "\n",
    "print(f\"Average fidelity = {sum(fidelities)/runs}\")\n",
    "print(f\"Time elapsed =  {time.perf_counter() - start} s\")\n",
    "print(f'10-th percentile fidelity = {sort(fidelities)[int(runs/10)]}')\n",
    "print(f'90-th percentile fidelity = {sort(fidelities)[int(9*runs/10)]}')"
   ]
  },
  {
   "cell_type": "code",
   "execution_count": null,
   "metadata": {},
   "outputs": [],
   "source": [
    "# -- Bell state generation for 16 qubits --"
   ]
  },
  {
   "cell_type": "code",
   "execution_count": 9,
   "metadata": {},
   "outputs": [],
   "source": [
    "N = 16\n",
    "\n",
    "circ1 = Circuit(\"Bell state gen (neighbouring)\", N).Y(0, pi/2)\n",
    "circ2 = Circuit(\"Bell state gen (non-neighbouring)\", N).Y(0, pi/2)\n",
    "\n",
    "index = 2 ** (N - 1)\n",
    "for i in range(N - 1):\n",
    "    circ1 = circ1.CNOT(i, i+1)\n",
    "    circ2 = circ2.CNOT(0, i+1)\n",
    "    index += 2 ** (N - 2 - i)\n",
    "\n",
    "    \n",
    "# -- Helper functions --\n",
    "\n",
    "def bell_state_fid(final_state):\n",
    "    return abs((final_state[0] + final_state[index])/sqrt(2)) ** 2\n",
    "\n",
    "def run_circuit(circ, runs):\n",
    "    fidelities = []\n",
    "    for k in range(runs):\n",
    "\n",
    "        final_state = circ.compute()\n",
    "        fidelities.append(bell_state_fid(final_state))\n",
    "\n",
    "        if (k % (runs / 20) == runs / 20 - 1):\n",
    "            print (round(k / (runs / 20)))\n",
    "            \n",
    "    return fidelities\n",
    "    \n",
    "\n",
    "def print_results(N, runs, fidelities):\n",
    "    # Histogram for fidelities\n",
    "    plt.title(f'Fidelity distribution ({runs} runs, {N} ions)')\n",
    "    plt.hist(fidelities, 20)\n",
    "    plt.show()\n",
    "    \n",
    "    print(f\"Average fidelity = {sum(fidelities)/runs}\")\n",
    "    print(f'10-th percentile fidelity = {sort(fidelities)[int(runs/10)]}')\n",
    "    print(f'90-th percentile fidelity = {sort(fidelities)[int(9 * runs/10)]}')"
   ]
  },
  {
   "cell_type": "code",
   "execution_count": 3,
   "metadata": {},
   "outputs": [
    {
     "name": "stdout",
     "output_type": "stream",
     "text": [
      "1\n",
      "2\n",
      "3\n",
      "4\n",
      "5\n",
      "6\n",
      "7\n",
      "8\n",
      "9\n",
      "10\n",
      "11\n",
      "12\n",
      "13\n",
      "14\n",
      "15\n",
      "16\n",
      "17\n",
      "18\n",
      "19\n",
      "20\n"
     ]
    },
    {
     "data": {
      "image/png": "[encoded data removed]",
      "text/plain": [
       "<Figure size 432x288 with 1 Axes>"
      ]
     },
     "metadata": {
      "needs_background": "light"
     },
     "output_type": "display_data"
    },
    {
     "name": "stdout",
     "output_type": "stream",
     "text": [
      "Average fidelity = 0.9673566555480244\n",
      "Time elapsed =  77.980814894 s\n",
      "10-th percentile fidelity = 0.951577325736908\n",
      "90-th percentile fidelity = 0.9794001391599768\n"
     ]
    }
   ],
   "source": [
    "# Phase error, neighbouring CNOTs\n",
    "err = 0.05\n",
    "circ1.set_errors([0.0, err, 0.0])\n",
    "runs = 1000\n",
    "\n",
    "start = time.perf_counter()\n",
    "\n",
    "fidelities = run_circuit(circ1, runs)\n",
    "\n",
    "# Save results\n",
    "filename = f'fidelities_{N}_qubits_{runs}_runs.txt'\n",
    "\n",
    "# Summarize results\n",
    "print_results(N, runs, fidelities)\n",
    "print(f\"Time elapsed =  {time.perf_counter() - start} s\")"
   ]
  },
  {
   "cell_type": "code",
   "execution_count": 9,
   "metadata": {},
   "outputs": [
    {
     "name": "stdout",
     "output_type": "stream",
     "text": [
      "1\n",
      "2\n",
      "3\n",
      "4\n",
      "5\n",
      "6\n",
      "7\n",
      "8\n",
      "9\n",
      "10\n",
      "11\n",
      "12\n",
      "13\n",
      "14\n",
      "15\n",
      "16\n",
      "17\n",
      "18\n",
      "19\n",
      "20\n"
     ]
    },
    {
     "data": {
      "image/png": "[encoded data removed]",
      "text/plain": [
       "<Figure size 432x288 with 1 Axes>"
      ]
     },
     "metadata": {
      "needs_background": "light"
     },
     "output_type": "display_data"
    },
    {
     "name": "stdout",
     "output_type": "stream",
     "text": [
      "Average fidelity = 0.9674988816422653\n",
      "Time elapsed =  72.11517881200007 s\n",
      "10-th percentile fidelity = 0.9509333573680384\n",
      "90-th percentile fidelity = 0.9805440148127232\n"
     ]
    }
   ],
   "source": [
    "# Phase error, long-distance CNOTs\n",
    "err = 0.05\n",
    "circ2.set_errors([0.0, err, 0.0])\n",
    "runs = 1000\n",
    "\n",
    "start = time.perf_counter()\n",
    "\n",
    "fidelities = run_circuit(circ2, runs)\n",
    "\n",
    "# Save results\n",
    "filename = f'fidelities_{N}_qubits_{runs}_runs.txt'\n",
    "\n",
    "# Summarize results\n",
    "print_results(N, runs, fidelities)\n",
    "print(f\"Time elapsed =  {time.perf_counter() - start} s\")"
   ]
  },
  {
   "cell_type": "code",
   "execution_count": 7,
   "metadata": {},
   "outputs": [
    {
     "name": "stdout",
     "output_type": "stream",
     "text": [
      "1\n",
      "2\n",
      "3\n",
      "4\n",
      "5\n",
      "6\n",
      "7\n",
      "8\n",
      "9\n",
      "10\n",
      "11\n",
      "12\n",
      "13\n",
      "14\n",
      "15\n",
      "16\n",
      "17\n",
      "18\n",
      "19\n",
      "20\n"
     ]
    },
    {
     "data": {
      "image/png": "[encoded data removed]",
      "text/plain": [
       "<Figure size 432x288 with 1 Axes>"
      ]
     },
     "metadata": {
      "needs_background": "light"
     },
     "output_type": "display_data"
    },
    {
     "name": "stdout",
     "output_type": "stream",
     "text": [
      "Average fidelity = 0.975877769166408\n",
      "Time elapsed =  130.76015662100008 s\n",
      "10-th percentile fidelity = 0.9682528676949401\n",
      "90-th percentile fidelity = 0.9826894892659023\n"
     ]
    }
   ],
   "source": [
    "# Over-rotation error, neighbouring CNOTs\n",
    "err = 0.05\n",
    "circ1.set_errors([err, 0.0, 2 * err])\n",
    "runs = 2000\n",
    "\n",
    "start = time.perf_counter()\n",
    "\n",
    "fidelities = run_circuit(circ1, runs)\n",
    "\n",
    "# Save results\n",
    "filename = f'fidelities_{N}_qubits_{runs}_runs.txt'\n",
    "\n",
    "# Summarize results\n",
    "print_results(N, runs, fidelities)\n",
    "print(f\"Time elapsed =  {time.perf_counter() - start} s\")"
   ]
  },
  {
   "cell_type": "code",
   "execution_count": 8,
   "metadata": {},
   "outputs": [
    {
     "name": "stdout",
     "output_type": "stream",
     "text": [
      "1\n",
      "2\n",
      "3\n",
      "4\n",
      "5\n",
      "6\n",
      "7\n",
      "8\n",
      "9\n",
      "10\n",
      "11\n",
      "12\n",
      "13\n",
      "14\n",
      "15\n",
      "16\n",
      "17\n",
      "18\n",
      "19\n",
      "20\n"
     ]
    },
    {
     "data": {
      "image/png": "[encoded data removed]",
      "text/plain": [
       "<Figure size 432x288 with 1 Axes>"
      ]
     },
     "metadata": {
      "needs_background": "light"
     },
     "output_type": "display_data"
    },
    {
     "name": "stdout",
     "output_type": "stream",
     "text": [
      "Average fidelity = 0.975870826744441\n",
      "Time elapsed =  158.19749475899994 s\n",
      "10-th percentile fidelity = 0.9686081406232904\n",
      "90-th percentile fidelity = 0.9824670996014636\n"
     ]
    }
   ],
   "source": [
    "# Over-rotation error, long-distance CNOTs\n",
    "err = 0.05\n",
    "circ1.set_errors([err, 0.0, 2 * err])\n",
    "runs = 2000\n",
    "\n",
    "start = time.perf_counter()\n",
    "\n",
    "fidelities = run_circuit(circ2, runs)\n",
    "\n",
    "# Save results\n",
    "filename = f'fidelities_{N}_qubits_{runs}_runs.txt'\n",
    "\n",
    "# Summarize results\n",
    "print_results(N, runs, fidelities)\n",
    "print(f\"Time elapsed =  {time.perf_counter() - start} s\")"
   ]
  },
  {
   "cell_type": "code",
   "execution_count": null,
   "metadata": {},
   "outputs": [],
   "source": [
    "# -- > 19 to 22 qubits, one run only --"
   ]
  },
  {
   "cell_type": "code",
   "execution_count": 12,
   "metadata": {},
   "outputs": [
    {
     "name": "stdout",
     "output_type": "stream",
     "text": [
      "Fidelity =  0.9514320930354014\n",
      "Time elapsed =  17.413244994999786 s\n"
     ]
    }
   ],
   "source": [
    "N = 22\n",
    "k = 5       # Number of CNOTs --> (k+1)-qubit Bell state\n",
    "\n",
    "circ = Circuit(f\"Bell state gen with {N} qubits\", N).Y(0,pi/2)\n",
    "\n",
    "index = 2 ** (N - 1)\n",
    "for i in range(N - 1):\n",
    "    circ = circ.CNOT(i, i+1)\n",
    "    index += 2 ** (N - 2 - i)\n",
    "\n",
    "\n",
    "# 20% errors\n",
    "err = 0.1\n",
    "circ.set_errors([0.05, 0.01, err])\n",
    "\n",
    "start = time.perf_counter()\n",
    "final_state = circ.compute()\n",
    "\n",
    "# Fidelity\n",
    "print(\"Fidelity = \", abs((final_state[0] + final_state[index])/sqrt(2)) ** 2)\n",
    "print(\"Time elapsed = \", time.perf_counter() - start, \"s\")\n",
    "\n",
    "# Save memory\n",
    "final_state = 0\n",
    "ideal_state = 0"
   ]
  },
  {
   "cell_type": "code",
   "execution_count": null,
   "metadata": {},
   "outputs": [],
   "source": []
  },
  {
   "cell_type": "code",
   "execution_count": 13,
   "metadata": {},
   "outputs": [],
   "source": [
    "# FIDELITY / STATE AS A FUNCTION OF TIME\n",
    "# SMALL ROTATIONS SHOULD HAVE LARGER PERCENTAGE ERRORS"
   ]
  },
  {
   "cell_type": "code",
   "execution_count": null,
   "metadata": {},
   "outputs": [],
   "source": []
  }
 ],
 "metadata": {
  "kernelspec": {
   "display_name": "Python 3",
   "language": "python",
   "name": "python3"
  },
  "language_info": {
   "codemirror_mode": {
    "name": "ipython",
    "version": 3
   },
   "file_extension": ".py",
   "mimetype": "text/x-python",
   "name": "python",
   "nbconvert_exporter": "python",
   "pygments_lexer": "ipython3",
   "version": "3.7.3"
  }
 },
 "nbformat": 4,
 "nbformat_minor": 2
}
